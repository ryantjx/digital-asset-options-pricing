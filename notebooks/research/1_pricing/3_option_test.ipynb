{
 "cells": [
  {
   "cell_type": "code",
   "execution_count": 2,
   "metadata": {},
   "outputs": [
    {
     "name": "stdout",
     "output_type": "stream",
     "text": [
      "Created AnalyticEuropeanPricer on November 1st, 2024 and option type 1\n",
      "params: \n",
      "            underlying: 70190.9,\n",
      "            rf_rate: 0,\n",
      "            div_yield: 0,\n",
      "            sigma: 0.020263,\n",
      "            calculation_date: November 1st, 2024,\n",
      "            day_count: Actual/365 (Fixed) day counter,\n",
      "            calendar: New York stock exchange calendar\n",
      "Creating BSM process\n",
      "Risk-free term structure created\n",
      "Dividend term structure created\n",
      "bsVolTS created\n",
      "AnalyticEuropeanEngine(BSM) Call Option Pricing:\n",
      "  Option price: 0.0000\n"
     ]
    },
    {
     "data": {
      "text/plain": [
       "1.1329912737337174e-122"
      ]
     },
     "execution_count": 2,
     "metadata": {},
     "output_type": "execute_result"
    }
   ],
   "source": [
    "import sys\n",
    "import os\n",
    "\n",
    "root_dir = os.path.abspath(\"/Users/ryant/Documents/Github/digital-asset-options-pricing\")\n",
    "if root_dir not in sys.path:\n",
    "    sys.path.append(root_dir)\n",
    "os.chdir(root_dir)\n",
    "\n",
    "from src.pricer import AnalyticEuropeanPricer\n",
    "from src.enums import OptionType\n",
    "\n",
    "import QuantLib as ql\n",
    "\n",
    "calculation_date = ql.Date('01-11-2024', '%d-%m-%Y')\n",
    "option_type = OptionType.Call\n",
    "\n",
    "analytic_pricer = AnalyticEuropeanPricer(calculation_date=calculation_date, option_type=OptionType.Call)\n",
    "\n",
    "\n",
    "analytic_pricer.price(\n",
    "    underlying = 70190.9,\n",
    "    strike = 75000,\n",
    "    sigma = 0.020263,\n",
    "    rf_rate = 0,\n",
    "    div = 0,\n",
    "    maturity = 7\n",
    ")"
   ]
  }
 ],
 "metadata": {
  "kernelspec": {
   "display_name": "Python 3",
   "language": "python",
   "name": "python3"
  },
  "language_info": {
   "codemirror_mode": {
    "name": "ipython",
    "version": 3
   },
   "file_extension": ".py",
   "mimetype": "text/x-python",
   "name": "python",
   "nbconvert_exporter": "python",
   "pygments_lexer": "ipython3",
   "version": "3.12.5"
  }
 },
 "nbformat": 4,
 "nbformat_minor": 2
}
