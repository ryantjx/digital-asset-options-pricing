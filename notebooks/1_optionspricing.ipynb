{
 "cells": [
  {
   "cell_type": "markdown",
   "metadata": {
    "vscode": {
     "languageId": "plaintext"
    }
   },
   "source": [
    "# Option Pricing: An Exploration"
   ]
  },
  {
   "cell_type": "markdown",
   "metadata": {},
   "source": [
    "## Libraries\n",
    "\n",
    "1. [quantlib](https://github.com/lballabio/QuantLib)\n",
    "   1. [quantlib in rust](https://github.com/piquette/quantlib)\n",
    "2. [gs-quant : GS quant libraries](https://github.com/goldmansachs/gs-quant)\n",
    "   1. [Priceable](https://developer.gs.com/docs/gsquant/api/classes/gs_quant.base.Priceable.html)\n",
    "      1. [FXOption](https://developer.gs.com/docs/gsquant/api/classes/gs_quant.instrument.FXOption.html#gs_quant.instrument.FXOption)\n",
    "3. [tf-quant-finance: Google QF libraries](https://github.com/google/tf-quant-finance)\n",
    "4. [quantsbin: QF tools](https://github.com/quantsbin/Quantsbin)\n",
    "5. [RustQuant: Rust QF development](https://github.com/avhz/RustQuant)"
   ]
  }
 ],
 "metadata": {
  "language_info": {
   "name": "python"
  }
 },
 "nbformat": 4,
 "nbformat_minor": 2
}
