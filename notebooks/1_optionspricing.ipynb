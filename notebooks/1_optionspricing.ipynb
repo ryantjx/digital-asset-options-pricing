{
 "cells": [
  {
   "cell_type": "markdown",
   "metadata": {
    "vscode": {
     "languageId": "plaintext"
    }
   },
   "source": [
    "# Option Pricing: An Exploration\n",
    "\n",
    "## Table of contents"
   ]
  },
  {
   "cell_type": "markdown",
   "metadata": {},
   "source": [
    "## Libraries\n",
    "\n",
    "1. [quantlib](https://github.com/lballabio/QuantLib)\n",
    "   1. [quantlib in rust](https://github.com/piquette/quantlib)\n",
    "2. [gs-quant : GS quant libraries](https://github.com/goldmansachs/gs-quant)\n",
    "   1. [Priceable](https://developer.gs.com/docs/gsquant/api/classes/gs_quant.base.Priceable.html)\n",
    "      1. [FXOption](https://developer.gs.com/docs/gsquant/api/classes/gs_quant.instrument.FXOption.html#gs_quant.instrument.FXOption)\n",
    "3. [tf-quant-finance: Google QF libraries](https://github.com/google/tf-quant-finance)\n",
    "4. [quantsbin: QF tools](https://github.com/quantsbin/Quantsbin)\n",
    "5. [RustQuant: Rust QF development](https://github.com/avhz/RustQuant)"
   ]
  },
  {
   "cell_type": "markdown",
   "metadata": {},
   "source": [
    "## Research\n",
    "\n",
    "### Levels\n",
    "1. Basic\n",
    "   1. Binomial Model (Cox-Ross-Rubinstein, 1979)\n",
    "   2. Black-Scholes-Merton Model (1973)\n",
    "2. Advanced Stochastic Models\n",
    "   1. Stochastic Volatility Models\n",
    "      1. Heston Model (1993)\n",
    "      2. SABR Model (Stochastic Alpha Beta Rho)\n",
    "   2. GARCH\n",
    "   3. Local Volatility - (Dupire, 1994)\n",
    "3. Jump Diffusion & Lévy Process Models\n",
    "   1. Merton's Jump-Diffusion Model (1976)\n",
    "      1. Extends Black-Scholes by adding random jumps to asset prices\n",
    "   2. Variance Gamma Model\n",
    "      1. Based on a Lévy process, introducing both jumps and time-dependent variance.\n",
    "4. Numerical Methods\n",
    "   1. Monte carlo\n",
    "   2. Finite Difference Methods (FDM)\n",
    "      1. [Option Pricing - Finite Difference Methods](http://www.goddardconsulting.ca/option-pricing-finite-diff-index.html)\n",
    "5. Advanced Contemporary Models\n",
    "6. Machine Learning Hybrid Models\n",
    "   1. Neural Networks\n",
    "   2. Gaussian Process Regression Models - non parametric bayesian method\n",
    "   3. Neural SDE Models\n",
    "   4. Reinforcement Learning for Hedging\n",
    "\n",
    "\n",
    "### Models Table\n",
    "\n",
    "| Model | Complexity | Key Features | Strengths | Limitations | Suitable Applications |\n",
    "|-------|------------|--------------|-----------|-------------|----------------------|\n",
    "| **Black-Scholes-Merton (1973)** | Low | Closed-form solution with constant volatility | Simple, computationally efficient, widely understood | Assumes constant volatility, log-normal returns, no jumps | Quick pricing of vanilla European options, baseline model |\n",
    "| **Binomial Model (1979)** | Low-Medium | Discrete-time model with finite price movements | Can handle American options, intuitive tree structure | Computationally intensive for many steps, convergence issues | American options, path-dependent options, teaching tool |\n",
    "| **Black-Scholes with Dividends** | Low | Extension of BS with continuous dividend yield | Accounts for dividend effects | Still assumes constant volatility | European options on dividend-paying stocks |\n",
    "| **CEV Model (1975)** | Medium | Volatility depends on stock price | Captures leverage effect | Limited flexibility in volatility surface | Equity options where leverage effect is prominent |\n",
    "| **GARCH Option Pricing** | Medium-High | Time-varying volatility with clustering | Captures volatility persistence | Complex estimation, no closed form | Options in highly volatile markets |\n",
    "| **Heston Model (1993)** | High | Stochastic volatility with mean reversion | Models volatility smiles/skews, semi-closed form | Complex calibration, sensitive to parameters | Exotic options, longer-dated options |\n",
    "| **Local Volatility (Dupire, 1994)** | High | Deterministic volatility varying with price and time | Perfect calibration to market volatility surface | Unstable for extrapolation, unrealistic dynamics | Risk management, hedging of exotic options |\n",
    "| **Merton Jump-Diffusion (1976)** | Medium-High | Continuous diffusion plus discrete jumps | Models market crashes, sudden moves | Parameter estimation challenges | Options sensitive to tail events |\n",
    "| **Bates Model (1996)** | Very High | Stochastic volatility with jumps | Captures both vol smiles and jumps | Complex calibration, many parameters | Comprehensive modeling of market dynamics |\n",
    "| **Regime-Switching Models** | High | Shifting between different market states | Models changing market conditions | Path dependence, estimation complexity | Long-term options, strategic investment |\n",
    "| **Rough Volatility (2018+)** | Very High | Fractional Brownian motion for volatility | Better short-term volatility modeling | Computational challenges, theoretical complexity | Short-dated options, volatility derivatives |\n",
    "| **Variance Gamma/NIG** | Medium-High | Pure jump processes | Better fit to observed skewness/kurtosis | Less intuitive interpretation | Markets with frequent small jumps |\n",
    "| **Neural Network Pricing** | Very High | Deep learning for option pricing | Handles complex dependencies, learns from data | Black box nature, data requirements | Complex exotics, high-frequency environments |\n",
    "| **Reinforcement Learning** | Extremely High | Learns optimal hedging strategies | Incorporates trading constraints, realistic | Enormous computational requirements | Automated trading, complex hedging |\n",
    "| **Gaussian Process Models** | High | Non-parametric approach | Flexible, works with limited data | Computationally intensive for large datasets | Exotic options with sparse market data |\n",
    "| **Neural SDE Models** | Very High | Neural networks parameterizing SDEs | Blends traditional models with ML flexibility | Implementation challenges, calibration issues | Forward-looking risk management |\n",
    "| **Signature Methods** | High | Path signatures from rough path theory | Efficient for path-dependent options | Theoretical complexity | Path-dependent exotics |\n",
    "| **Model-Free Implied Volatility** | Medium | Direct extraction from option prices | No assumption about price process | Requires dense option chain | Volatility trading, market sentiment analysis |\n",
    "| **Arbitrage-Free Neural SVI** | High | Neural networks ensuring no static arbitrage | Theoretical consistency with empirical flexibility | Complex implementation | Volatility surface modeling, risk management |"
   ]
  },
  {
   "cell_type": "markdown",
   "metadata": {},
   "source": [
    "## Quantlib\n",
    "\n",
    "In this repository, we will explore the quantlib library. Two key reasons is open-source and built in C++, so in the future when it is implemented into source code, it would be much more composable.\n",
    "\n",
    "The key libraries from the package would be\n",
    "1. [Math Tools](https://quantlib-python-docs.readthedocs.io/en/latest/mathTools.html)\n",
    "2. [Options](https://quantlib-python-docs.readthedocs.io/en/latest/instruments.html#options)\n",
    "   1. [Vanilla Options](https://quantlib-python-docs.readthedocs.io/en/latest/instruments.html#ql.VanillaOption)\n",
    "3. [Option Pricing Engines](https://quantlib-python-docs.readthedocs.io/en/latest/pricing_engines.html#option-pricing-engines)\n",
    "   1. [Vanilla Options](https://quantlib-python-docs.readthedocs.io/en/latest/pricing_engines.html#vanilla-options)\n",
    "4. [Stochastic Processes](https://quantlib-python-docs.readthedocs.io/en/latest/stochastic_processes.html)\n",
    "\n",
    "\n",
    "### Guides\n",
    "1. [hpcquantlit: Optimized Heston Model Integration: Exponentially-Fitted Gauss-Laguerre Quadrature Rule.](https://hpcquantlib.wordpress.com/2020/05/17/optimized-heston-model-integration-exponentially-fitted-gauss-laguerre-quadrature-rule/)\n",
    "2. [quantlib wordpress](https://quantlib.wordpress.com/)\n",
    "   1. [Dynamics II](https://quantlib.wordpress.com/2015/10/11/dynamics-ii/)\n",
    "3. [Valuing European Option Using the Heston Model in QuantLib Python](https://gouthamanbalaraman.com/blog/valuing-european-option-heston-model-quantLib.html)"
   ]
  },
  {
   "cell_type": "markdown",
   "metadata": {},
   "source": [
    "### Instruments\n",
    "- ql.VanillaOption(payoff, europeanExercise)\n",
    "  - Exercise types\n",
    "    - ql.EuropeanExercise(date)\n",
    "  - payoffs\n",
    "    - ql.Option.Call\n",
    "    - ql.Option.Put\n",
    "\n",
    "```\n",
    "strike = 100.0\n",
    "maturity = ql.Date(15,6,2025)\n",
    "option_type = ql.Option.Call\n",
    "\n",
    "payoff = ql.PlainVanillaPayoff(option_type, strike)\n",
    "\n",
    "europeanExercise = ql.EuropeanExercise(maturity)\n",
    "europeanOption = ql.VanillaOption(payoff, europeanExercise)\n",
    "\n",
    "binaryPayoff = ql.CashOrNothingPayoff(option_type, strike, 1)\n",
    "binaryOption = ql.VanillaOption(binaryPayoff, european_exercise)\n",
    "```"
   ]
  },
  {
   "cell_type": "markdown",
   "metadata": {},
   "source": [
    "### Option Pricing Engine\n",
    "\n",
    "[link](https://quantlib-python-docs.readthedocs.io/en/latest/pricing_engines.html#vanilla-options)\\\n",
    "[github](https://github.com/lballabio/QuantLib/tree/master/ql/pricingengines/vanilla)\n",
    "\n",
    "1. ql.AnalyticEuropeanEngine(GeneralizedBlackScholesProcess)\n",
    "2. ql.MCEuropeanEngine(GeneralizedBlackScholesProcess, traits, timeSteps=None, timeStepsPerYear=None, brownianBridge=False, antitheticVariate=False, requiredSamples=None, requiredTolerance=None, maxSamples=None, seed=0)\n",
    "3. ql.FdBlackScholesVanillaEngine(GeneralizedBlackScholesProcess, tGrid, xGrid, dampingSteps=0, schemeDesc=ql.FdmSchemeDesc.Douglas(), localVol=False, illegalLocalVolOverwrite=None)\n",
    "4. ql.AnalyticHestonEngine(HestonModel)\n",
    "5. ql.MCEuropeanHestonEngine(HestonProcess, traits, timeSteps=None, timeStepsPerYear=None, antitheticVariate=False, requiredSamples=None, requiredTolerance=None, maxSamples=None, seed=0)\n",
    "6. ql.FdHestonVanillaEngine(HestonModel, tGrid=100, xGrid=100, vGrid=50, dampingSteps=0, FdmSchemeDesc=ql.FdmSchemeDesc.Hundsdorfer(), leverageFct=LocalVolTermStructure(), mixingFactor=1.0)\n",
    "7. ql.AnalyticPTDHestonEngine(PiecewiseTimeDependentHestonModel)\n",
    "\n",
    "<!-- Black-Scholes\n",
    "Barone-Adesi/Whaley\n",
    "Bierksund/Stensland\n",
    "Integral\n",
    "Finite Differences\n",
    "Binomial Jarrow-Rudd\n",
    "Binomial Cox-Ross-Rubistein\n",
    "Binomial equiprobabilities\n",
    "Binomial Trigeorgis\n",
    "Binomial Tian\n",
    "Binomial Leisen-Reimer\n",
    "Binomial Joshi\n",
    "MC (crude)\n",
    "QMC (Sobol)\n",
    "MC (Longstaff Schwartz)\n",
    "Digital payoff\n",
    "Discrete dividends\n",
    "Bates\n",
    "Ju\n",
    "FD for dividend options\n",
    "Heston\n",
    "Black-Scholes with Hull-White\n",
    "Heston with Hull-White\n",
    "MC (crude) Heston\n",
    "QMC (Sobol) Heston\n",
    "Heston Variance Option\n",
    "Perturbative Barrier Option -->"
   ]
  },
  {
   "cell_type": "markdown",
   "metadata": {},
   "source": [
    "1. Analytic European Engine (BlackScholes)\n",
    "2. MonteCarlo\n",
    "3. Heston - Discrete / Maximum Likelihood Estimates / Methods of Moments\n",
    "   1. [S. Heston and S. Nandi, “A Closed-Form GARCH Option Valuation Model.” The Review of Financial Studies (2000)](https://papers.ssrn.com/sol3/papers.cfm?abstract_id=210009)\n",
    "   2. [A Closed-Form Solution for Options with Stochastic Volatility with Applications to Bond and Currency Options.](https://www.ma.imperial.ac.uk/~ajacquie/IC_Num_Methods/IC_Num_Methods_Docs/Literature/Heston.pdf)\n",
    "   3. [Estimating Option Prices with Heston’s Stochastic Volatility Model](https://www.valpo.edu/mathematics-statistics/files/2015/07/Estimating-Option-Prices-with-Heston%E2%80%99s-Stochastic-Volatility-Model.pdf)\n",
    "   4. [ ]"
   ]
  },
  {
   "cell_type": "code",
   "execution_count": 4,
   "metadata": {},
   "outputs": [],
   "source": [
    "import QuantLib as ql\n",
    "import numpy as np\n",
    "import matplotlib.pyplot as plt"
   ]
  },
  {
   "cell_type": "markdown",
   "metadata": {},
   "source": [
    "# Analytic European Engine (Black Scholes)"
   ]
  },
  {
   "cell_type": "markdown",
   "metadata": {},
   "source": [
    "# Monte Carlo"
   ]
  },
  {
   "cell_type": "markdown",
   "metadata": {},
   "source": []
  }
 ],
 "metadata": {
  "kernelspec": {
   "display_name": "Python 3",
   "language": "python",
   "name": "python3"
  },
  "language_info": {
   "codemirror_mode": {
    "name": "ipython",
    "version": 3
   },
   "file_extension": ".py",
   "mimetype": "text/x-python",
   "name": "python",
   "nbconvert_exporter": "python",
   "pygments_lexer": "ipython3",
   "version": "3.12.5"
  }
 },
 "nbformat": 4,
 "nbformat_minor": 2
}
