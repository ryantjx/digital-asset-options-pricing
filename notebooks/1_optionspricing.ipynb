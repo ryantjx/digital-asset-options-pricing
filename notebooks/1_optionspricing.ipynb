{
 "cells": [
  {
   "cell_type": "markdown",
   "metadata": {
    "vscode": {
     "languageId": "plaintext"
    }
   },
   "source": [
    "# Option Pricing: An Exploration\n",
    "\n",
    "## Table of contents"
   ]
  },
  {
   "cell_type": "markdown",
   "metadata": {},
   "source": [
    "## Libraries\n",
    "\n",
    "1. [quantlib](https://github.com/lballabio/QuantLib)\n",
    "   1. [quantlib in rust](https://github.com/piquette/quantlib)\n",
    "2. [gs-quant : GS quant libraries](https://github.com/goldmansachs/gs-quant)\n",
    "   1. [Priceable](https://developer.gs.com/docs/gsquant/api/classes/gs_quant.base.Priceable.html)\n",
    "      1. [FXOption](https://developer.gs.com/docs/gsquant/api/classes/gs_quant.instrument.FXOption.html#gs_quant.instrument.FXOption)\n",
    "3. [tf-quant-finance: Google QF libraries](https://github.com/google/tf-quant-finance)\n",
    "4. [quantsbin: QF tools](https://github.com/quantsbin/Quantsbin)\n",
    "5. [RustQuant: Rust QF development](https://github.com/avhz/RustQuant)"
   ]
  },
  {
   "cell_type": "markdown",
   "metadata": {},
   "source": [
    "## Quantlib\n",
    "\n",
    "In this repository, we will explore the quantlib library. Two key reasons is open-source and built in C++, so in the future when it is implemented into source code, it would be much more composable.\n",
    "\n",
    "The key libraries from the package would be\n",
    "1. [Math Tools](https://quantlib-python-docs.readthedocs.io/en/latest/mathTools.html)\n",
    "2. [Options](https://quantlib-python-docs.readthedocs.io/en/latest/instruments.html#options)\n",
    "   1. [Vanilla Options](https://quantlib-python-docs.readthedocs.io/en/latest/instruments.html#ql.VanillaOption)\n",
    "3. [Option Pricing Engines](https://quantlib-python-docs.readthedocs.io/en/latest/pricing_engines.html#option-pricing-engines)\n",
    "   1. [Vanilla Options](https://quantlib-python-docs.readthedocs.io/en/latest/pricing_engines.html#vanilla-options)\n",
    "4. [Stochastic Processes](https://quantlib-python-docs.readthedocs.io/en/latest/stochastic_processes.html)\n",
    "\n",
    "\n",
    "### Guides\n",
    "1. [hpcquantlit: Optimized Heston Model Integration: Exponentially-Fitted Gauss-Laguerre Quadrature Rule.](https://hpcquantlib.wordpress.com/2020/05/17/optimized-heston-model-integration-exponentially-fitted-gauss-laguerre-quadrature-rule/)\n",
    "2. [quantlib wordpress](https://quantlib.wordpress.com/)\n",
    "   1. [Dynamics II](https://quantlib.wordpress.com/2015/10/11/dynamics-ii/)\n",
    "3. [Valuing European Option Using the Heston Model in QuantLib Python](https://gouthamanbalaraman.com/blog/valuing-european-option-heston-model-quantLib.html)"
   ]
  },
  {
   "cell_type": "code",
   "execution_count": null,
   "metadata": {
    "vscode": {
     "languageId": "plaintext"
    }
   },
   "outputs": [],
   "source": []
  }
 ],
 "metadata": {
  "language_info": {
   "name": "python"
  }
 },
 "nbformat": 4,
 "nbformat_minor": 2
}
